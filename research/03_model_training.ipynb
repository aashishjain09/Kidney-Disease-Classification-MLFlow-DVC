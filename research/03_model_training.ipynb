{
 "cells": [
  {
   "cell_type": "code",
   "execution_count": null,
   "id": "3c058281",
   "metadata": {},
   "outputs": [],
   "source": [
    "import os\n",
    "os.chdir(\"../\")"
   ]
  },
  {
   "cell_type": "code",
   "execution_count": null,
   "id": "17328e32",
   "metadata": {},
   "outputs": [],
   "source": [
    "from dataclasses import dataclass\n",
    "from pathlib import Path\n",
    "\n",
    "@dataclass(frozen=True)\n",
    "class TrainingConfig:\n",
    "    root_dir: Path\n",
    "    trained_model_path: Path\n",
    "    updated_base_model_path: Path\n",
    "    training_data: Path\n",
    "    params_epochs: int\n",
    "    params_batch_size: int\n",
    "    params_is_augmentation: bool\n",
    "    params_image_size: list"
   ]
  },
  {
   "cell_type": "code",
   "execution_count": null,
   "id": "3ec2ad26",
   "metadata": {},
   "outputs": [],
   "source": [
    "from cnnClassifier.constants import *\n",
    "from cnnClassifier.utils.common import read_yaml, create_directories\n",
    "import tensorflow as tf\n",
    "\n",
    "class ConfigurationManager:\n",
    "    def __init__(self, config_filepath=CONFIG_FILE_PATH, params_filepath=PARAMS_FILE_PATH):\n",
    "\n",
    "        self.config=read_yaml(config_filepath)\n",
    "        self.params=read_yaml(params_filepath)\n",
    "        create_directories([self.config.artifacts_root])\n",
    "    \n",
    "    def get_training_config(self) -> TrainingConfig:\n",
    "        training=self.config.training\n",
    "        prepare_base_model=self.config.prepare_base_model\n",
    "        params=self.params\n",
    "        training_data=os.path.join(self.config.data_ingestion.unzip_dir, \"kidney-ct-scan-image\")\n",
    "\n",
    "        create_directories([Path(training_data)])\n",
    "\n",
    "        training_config=TrainingConfig(\n",
    "            root_dir=Path(training.root_dir), \n",
    "            training_model_path=Path(training.training_model_path), \n",
    "            updated_base_model_path=Path(prepare_base_model.updated_base_model_path), \n",
    "            training_data=Path(training_data), \n",
    "            params_epochs=params.EPOCHS, \n",
    "            params_batch_size=params.BATCH_SIZE, \n",
    "            params_is_augmentation=params.IS_AUGMENTATION, \n",
    "            params_image_size=params.IMAGE_SIZE)\n",
    "        return training_config"
   ]
  },
  {
   "cell_type": "code",
   "execution_count": null,
   "id": "f359e341",
   "metadata": {},
   "outputs": [],
   "source": [
    "import os, urllib.request as request, tensorflow as tf, time\n",
    "from zipfile import ZipFile\n",
    "\n",
    "\n",
    "class Training:\n",
    "    def __init__(self, config: TrainingConfig):\n",
    "        self.config=config\n",
    "    \n",
    "    def get_base_model(self):\n",
    "        self.model=tf.keras.models.load_model(self.config.updated_base_model_path)\n",
    "    \n",
    "    def traing_valid_generator(self):\n",
    "\n",
    "        datagenerator_kwargs=dict(rescale=1./255, validation_split=0.20)\n",
    "        dataflow_kwargs=dict(target_size=self.config.params_image_size[:-1], batch_size=self.config.params_batch_size, interpolation=\"bilinear\")\n",
    "        valid_datagenerator=tf.keras.preprocessing.image.ImageDataGenerator(**datagenerator_kwargs)\n",
    "        self.valid_generator=valid_datagenerator.flow_from_directory(directory=self.config.training_data, subset=\"validation\", shuffle=False, **dataflow_kwargs)\n",
    "\n",
    "        if self.config.params_is_augmentation:\n",
    "            train_datagenerator=tf.keras.preprocessing.image.ImageDataGenerator(\n",
    "                rotation_range=40, horizontal_flip=True, width_shift_range=0.2, height_shift_range=0.2, shear_range=0.2, zoom_range=0.2, **datagenerator_kwargs)\n",
    "        else:\n",
    "            train_datagenerator=valid_datagenerator\n",
    "        \n",
    "        self.train_generator=train_datagenerator.flow_from_directory(directory=self.config.training_data, subset=\"training\", shuffle=True, **dataflow_kwargs)\n",
    "    \n",
    "    @staticmethod\n",
    "    def save_model(path: Path, model: tf.keras.Model):\n",
    "        model.save(path)\n",
    "    \n",
    "    def train(self):\n",
    "        self.steps_per_epoch=self.train_generator.samples // self.train_generator.batch_size\n",
    "        self.validation_steps=self.valid_generator.samples // self.valid_generator.batch_size\n",
    "\n",
    "        self.model.fit(self.train_generator, epochs=self.config.params_epochs, steps_per_epoch=self.steps_per_epoch, \n",
    "                       validation_steps=self.validation_steps, validation_data=self.valid_generator)\n",
    "\n",
    "        self.save_model(path=self.config.trained_model_path, model=self.model)"
   ]
  },
  {
   "cell_type": "code",
   "execution_count": null,
   "id": "933ac249",
   "metadata": {},
   "outputs": [],
   "source": [
    "try:\n",
    "    training=Training(ConfigurationManager().get_training_config())\n",
    "    training.get_base_model()\n",
    "    training.traing_valid_generator()\n",
    "    training.train()\n",
    "except Exception as e:\n",
    "    raise e"
   ]
  }
 ],
 "metadata": {
  "language_info": {
   "name": "python"
  }
 },
 "nbformat": 4,
 "nbformat_minor": 5
}
